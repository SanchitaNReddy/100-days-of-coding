{
 "cells": [
  {
   "cell_type": "markdown",
   "id": "9e01dc8d",
   "metadata": {},
   "source": [
    "# Practice"
   ]
  },
  {
   "cell_type": "markdown",
   "id": "dfcd9599",
   "metadata": {},
   "source": [
    "## Day 1"
   ]
  },
  {
   "cell_type": "markdown",
   "id": "68f85060",
   "metadata": {},
   "source": [
    "**Exercise 1:** Create a program that asks the user to enter their name and their age. Print out a message addressed to them that tells them the year that they will turn 100 years old. "
   ]
  },
  {
   "cell_type": "code",
   "execution_count": 44,
   "id": "97f53dac",
   "metadata": {
    "scrolled": true
   },
   "outputs": [
    {
     "name": "stdout",
     "output_type": "stream",
     "text": [
      "What is your name?: anish\n",
      "What is your age?: 28\n",
      "You will turn a hundered years old in 2097\n"
     ]
    }
   ],
   "source": [
    "#taking user input and converting age to int\n",
    "name = input(\"What is your name?: \")\n",
    "age = int(input(\"What is your age?: \"))\n",
    "#calculating year by taking the age difference and then calculating year from 2025\n",
    "hund_year = 2025 + (100 - age)\n",
    "#printing message\n",
    "print(\"You will turn a hundered years old in \" + str(hund_year))"
   ]
  },
  {
   "cell_type": "markdown",
   "id": "b9e769b4",
   "metadata": {},
   "source": [
    "**Exercise 2:** Ask the user for a number. Depending on whether the number is even or odd, print out an appropriate message to the user. Hint: how does an even / odd number react differently when divided by 2?"
   ]
  },
  {
   "cell_type": "code",
   "execution_count": 8,
   "id": "fd0f053c",
   "metadata": {},
   "outputs": [
    {
     "name": "stdout",
     "output_type": "stream",
     "text": [
      "Enter a number to check if it is odd or even: 31\n",
      "31 is an odd number\n"
     ]
    }
   ],
   "source": [
    "#taking input of the number\n",
    "num = int(input(\"Enter a number to check if it is odd or even: \"))\n",
    "#checking if the number is even or odd\n",
    "if num % 2 == 0:\n",
    "    print(str(num) + \" is an even number\")\n",
    "else:\n",
    "    print(str(num) + \" is an odd number\")"
   ]
  },
  {
   "cell_type": "markdown",
   "id": "b3fbd249",
   "metadata": {},
   "source": [
    "**Exercise 3:** Take a list, say for example this one:\n",
    "\n",
    "  a = [1, 1, 2, 3, 5, 8, 13, 21, 34, 55, 89]\n",
    "and write a program that prints out all the elements of the list that are less than 5.\n",
    "\n",
    "Extras:\n",
    "\n",
    "Instead of printing the elements one by one, make a new list that has all the elements less than 5 from this list in it and print out this new list.\n",
    "Write this in one line of Python.\n",
    "Ask the user for a number and return a list that contains only elements from the original list a that are smaller than that number given by the user."
   ]
  },
  {
   "cell_type": "code",
   "execution_count": 12,
   "id": "9af4e13f",
   "metadata": {},
   "outputs": [
    {
     "name": "stdout",
     "output_type": "stream",
     "text": [
      "[1, 1, 2, 3]\n"
     ]
    }
   ],
   "source": [
    "#initialising the list of elements to check\n",
    "a = [1, 1, 2, 3, 5, 8, 13, 21, 34, 55, 89]\n",
    "#initialising empty list to add items that pass the test\n",
    "b = []\n",
    "for num in a:\n",
    "    if num < 5:\n",
    "        b.append(num)\n",
    "        b.sort()\n",
    "print(b)"
   ]
  },
  {
   "cell_type": "code",
   "execution_count": 13,
   "id": "ff3c4bb7",
   "metadata": {},
   "outputs": [
    {
     "name": "stdout",
     "output_type": "stream",
     "text": [
      "Provide a number between 0 - 100: 25\n",
      "[1, 1, 2, 3, 5, 8, 13, 21]\n"
     ]
    }
   ],
   "source": [
    "number = int(input(\"Provide a number between 0 - 100: \"))\n",
    "c = []\n",
    "for num in a:\n",
    "    if num < number:\n",
    "        c.append(num)\n",
    "        c.sort()\n",
    "print(c)"
   ]
  },
  {
   "cell_type": "markdown",
   "id": "eacd0b01",
   "metadata": {},
   "source": [
    "## Day 2"
   ]
  },
  {
   "cell_type": "markdown",
   "id": "b7d77541",
   "metadata": {},
   "source": [
    "**Exercise 4:** Create a program that asks the user for a number and then prints out a list of all the divisors of that number. (If you don’t know what a divisor is, it is a number that divides evenly into another number. For example, 13 is a divisor of 26 because 26 / 13 has no remainder.)"
   ]
  },
  {
   "cell_type": "code",
   "execution_count": 17,
   "id": "c55f2530",
   "metadata": {},
   "outputs": [
    {
     "name": "stdout",
     "output_type": "stream",
     "text": [
      "Please enter a number: 20\n",
      "[1, 2, 4, 5, 10, 20]\n"
     ]
    }
   ],
   "source": [
    "#taking user input\n",
    "num_input = int(input(\"Please enter a number: \"))\n",
    "divisors = list(range(1, num_input+1))\n",
    "d = []\n",
    "#checking for divisors\n",
    "for elem in divisors:\n",
    "    if num_input % elem == 0:\n",
    "        d.append(elem)\n",
    "print(d)"
   ]
  },
  {
   "cell_type": "markdown",
   "id": "4233df97",
   "metadata": {},
   "source": [
    "**Exercise 5:**\n",
    "Take two lists, say for example these two:\n",
    "\n",
    "  a = [1, 1, 2, 3, 5, 8, 13, 21, 34, 55, 89]\n",
    "  b = [1, 2, 3, 4, 5, 6, 7, 8, 9, 10, 11, 12, 13]\n",
    "and write a program that returns a list that contains only the elements that are common between the lists (without duplicates). Make sure your program works on two lists of different sizes.\n",
    "\n",
    "Extras:\n",
    "\n",
    "Randomly generate two lists to test this\n",
    "\n",
    "Write this in one line of Python (don’t worry if you can’t figure this out at this point - we’ll get to it soon)"
   ]
  },
  {
   "cell_type": "code",
   "execution_count": 25,
   "id": "9c4be388",
   "metadata": {},
   "outputs": [
    {
     "name": "stdout",
     "output_type": "stream",
     "text": [
      "[1, 2, 3, 5, 8, 13]\n"
     ]
    }
   ],
   "source": [
    "#initiating the two lists\n",
    "a = [1, 1, 2, 3, 5, 8, 13, 21, 34, 55, 89]\n",
    "b = [1, 2, 3, 4, 5, 6, 7, 8, 9, 10, 11, 12, 13]\n",
    "c = []\n",
    "\n",
    "def match_elem(a, b, c):\n",
    "    for elem in a:\n",
    "        for num in b:\n",
    "            if elem == num:\n",
    "                if elem not in c:\n",
    "                    c.append(elem)\n",
    "    return c\n",
    "final = match_elem(a, b, c)              \n",
    "print(final)"
   ]
  },
  {
   "cell_type": "code",
   "execution_count": 28,
   "id": "deef7e23",
   "metadata": {},
   "outputs": [
    {
     "name": "stdout",
     "output_type": "stream",
     "text": [
      "[9, 14, 18, 23, 38, 39, 45, 46, 69, 95]\n",
      "[3, 11, 33, 34, 43, 60, 71, 80, 87, 88]\n",
      "[]\n"
     ]
    }
   ],
   "source": [
    "import random\n",
    "#generating random lists\n",
    "a = [random.randint(1, 100) for _ in range(10)]  # List of 10 random integers between 1 and 100\n",
    "b = [random.randint(1, 100) for _ in range(10)] \n",
    "c = []\n",
    "a.sort()\n",
    "b.sort()\n",
    "random_final = match_elem(a, b, c)\n",
    "print(a)\n",
    "print(b)\n",
    "print(random_final)"
   ]
  },
  {
   "cell_type": "markdown",
   "id": "902b2262",
   "metadata": {},
   "source": [
    "**Exercise 6:** Ask the user for a string and print out whether this string is a palindrome or not. (A palindrome is a string that reads the same forwards and backwards.)"
   ]
  },
  {
   "cell_type": "code",
   "execution_count": 45,
   "id": "14514515",
   "metadata": {},
   "outputs": [
    {
     "name": "stdout",
     "output_type": "stream",
     "text": [
      "Please enter a word: malayalam\n",
      "malayalam is a palindrome\n"
     ]
    }
   ],
   "source": [
    "user_input = input(\"Please enter a word: \")\n",
    "def is_palindrome(word):\n",
    "    word_lower = word.lower() #converting to lower case\n",
    "    return word_lower == word_lower[::-1]\n",
    "\n",
    "if is_palindrome(user_input):\n",
    "    print(f\"{user_input} is a palindrome\")\n",
    "else:\n",
    "    print(f\"{user_input} is not a palindrome\")\n",
    "    "
   ]
  },
  {
   "cell_type": "markdown",
   "id": "d478b427",
   "metadata": {},
   "source": [
    "**Exercise 7:** Let’s say I give you a list saved in a variable: a = [1, 4, 9, 16, 25, 36, 49, 64, 81, 100]. Write one line of Python that takes this list a and makes a new list that has only the even elements of this list in it."
   ]
  },
  {
   "cell_type": "code",
   "execution_count": 38,
   "id": "96a093a0",
   "metadata": {},
   "outputs": [
    {
     "name": "stdout",
     "output_type": "stream",
     "text": [
      "[4, 16, 36, 64, 100]\n",
      "5\n"
     ]
    }
   ],
   "source": [
    "#given list\n",
    "a = [1, 4, 9, 16, 25, 36, 49, 64, 81, 100]\n",
    "#checking if the numver is even\n",
    "b = [num for num in a if num % 2 == 0]\n",
    "print(b)\n",
    "print(len(b))"
   ]
  },
  {
   "cell_type": "markdown",
   "id": "4455d531",
   "metadata": {},
   "source": [
    "**Exercise 8:** Make a Rock-Paper-Scissors game. (Hint: Ask for player plays (using input), the player plays against the system, compare them, print out a message of congratulations to the winner, and ask if the players want to start a new game)\n",
    "\n",
    "Remember the rules:\n",
    "\n",
    "Rock beats scissors\n",
    "Scissors beats paper\n",
    "Paper beats rock"
   ]
  },
  {
   "cell_type": "code",
   "execution_count": 43,
   "id": "b83c081f",
   "metadata": {},
   "outputs": [
    {
     "name": "stdout",
     "output_type": "stream",
     "text": [
      "Welcome to Rock-Paper-Sissors!\n",
      "Please enter your choice (Rock, Paper or Sissors): rock\n",
      "Sorry, the computer wins. The computer chose paper\n",
      "Do you want to play again? (y/n): y\n",
      "Please enter your choice (Rock, Paper or Sissors): paper\n",
      "It's a tie. The computer also chose paper\n",
      "Do you want to play again? (y/n): y\n",
      "Please enter your choice (Rock, Paper or Sissors): sissors\n",
      "The computer chose paper\n",
      "Congratulation! You win!\n"
     ]
    },
    {
     "ename": "KeyboardInterrupt",
     "evalue": "Interrupted by user",
     "output_type": "error",
     "traceback": [
      "\u001b[0;31m---------------------------------------------------------------------------\u001b[0m",
      "\u001b[0;31mKeyboardInterrupt\u001b[0m                         Traceback (most recent call last)",
      "Cell \u001b[0;32mIn[43], line 30\u001b[0m\n\u001b[1;32m     27\u001b[0m             \u001b[38;5;28mprint\u001b[39m(\u001b[38;5;124m\"\u001b[39m\u001b[38;5;124mThanks for playing!\u001b[39m\u001b[38;5;124m\"\u001b[39m)\n\u001b[1;32m     28\u001b[0m             \u001b[38;5;28;01mbreak\u001b[39;00m\n\u001b[0;32m---> 30\u001b[0m game()\n",
      "Cell \u001b[0;32mIn[43], line 25\u001b[0m, in \u001b[0;36mgame\u001b[0;34m()\u001b[0m\n\u001b[1;32m     22\u001b[0m \u001b[38;5;28;01melse\u001b[39;00m:\n\u001b[1;32m     23\u001b[0m     \u001b[38;5;28mprint\u001b[39m(\u001b[38;5;124mf\u001b[39m\u001b[38;5;124m\"\u001b[39m\u001b[38;5;124mSorry, the computer wins. The computer chose \u001b[39m\u001b[38;5;132;01m{\u001b[39;00msystem_choice\u001b[38;5;132;01m}\u001b[39;00m\u001b[38;5;124m\"\u001b[39m)\n\u001b[0;32m---> 25\u001b[0m play_again \u001b[38;5;241m=\u001b[39m \u001b[38;5;28minput\u001b[39m(\u001b[38;5;124m\"\u001b[39m\u001b[38;5;124mDo you want to play again? (y/n): \u001b[39m\u001b[38;5;124m\"\u001b[39m)\u001b[38;5;241m.\u001b[39mlower()\n\u001b[1;32m     26\u001b[0m \u001b[38;5;28;01mif\u001b[39;00m play_again \u001b[38;5;241m!=\u001b[39m \u001b[38;5;124m\"\u001b[39m\u001b[38;5;124my\u001b[39m\u001b[38;5;124m\"\u001b[39m:\n\u001b[1;32m     27\u001b[0m     \u001b[38;5;28mprint\u001b[39m(\u001b[38;5;124m\"\u001b[39m\u001b[38;5;124mThanks for playing!\u001b[39m\u001b[38;5;124m\"\u001b[39m)\n",
      "File \u001b[0;32m~/anaconda3/lib/python3.11/site-packages/ipykernel/kernelbase.py:1202\u001b[0m, in \u001b[0;36mKernel.raw_input\u001b[0;34m(self, prompt)\u001b[0m\n\u001b[1;32m   1200\u001b[0m     msg \u001b[38;5;241m=\u001b[39m \u001b[38;5;124m\"\u001b[39m\u001b[38;5;124mraw_input was called, but this frontend does not support input requests.\u001b[39m\u001b[38;5;124m\"\u001b[39m\n\u001b[1;32m   1201\u001b[0m     \u001b[38;5;28;01mraise\u001b[39;00m StdinNotImplementedError(msg)\n\u001b[0;32m-> 1202\u001b[0m \u001b[38;5;28;01mreturn\u001b[39;00m \u001b[38;5;28mself\u001b[39m\u001b[38;5;241m.\u001b[39m_input_request(\n\u001b[1;32m   1203\u001b[0m     \u001b[38;5;28mstr\u001b[39m(prompt),\n\u001b[1;32m   1204\u001b[0m     \u001b[38;5;28mself\u001b[39m\u001b[38;5;241m.\u001b[39m_parent_ident[\u001b[38;5;124m\"\u001b[39m\u001b[38;5;124mshell\u001b[39m\u001b[38;5;124m\"\u001b[39m],\n\u001b[1;32m   1205\u001b[0m     \u001b[38;5;28mself\u001b[39m\u001b[38;5;241m.\u001b[39mget_parent(\u001b[38;5;124m\"\u001b[39m\u001b[38;5;124mshell\u001b[39m\u001b[38;5;124m\"\u001b[39m),\n\u001b[1;32m   1206\u001b[0m     password\u001b[38;5;241m=\u001b[39m\u001b[38;5;28;01mFalse\u001b[39;00m,\n\u001b[1;32m   1207\u001b[0m )\n",
      "File \u001b[0;32m~/anaconda3/lib/python3.11/site-packages/ipykernel/kernelbase.py:1245\u001b[0m, in \u001b[0;36mKernel._input_request\u001b[0;34m(self, prompt, ident, parent, password)\u001b[0m\n\u001b[1;32m   1242\u001b[0m \u001b[38;5;28;01mexcept\u001b[39;00m \u001b[38;5;167;01mKeyboardInterrupt\u001b[39;00m:\n\u001b[1;32m   1243\u001b[0m     \u001b[38;5;66;03m# re-raise KeyboardInterrupt, to truncate traceback\u001b[39;00m\n\u001b[1;32m   1244\u001b[0m     msg \u001b[38;5;241m=\u001b[39m \u001b[38;5;124m\"\u001b[39m\u001b[38;5;124mInterrupted by user\u001b[39m\u001b[38;5;124m\"\u001b[39m\n\u001b[0;32m-> 1245\u001b[0m     \u001b[38;5;28;01mraise\u001b[39;00m \u001b[38;5;167;01mKeyboardInterrupt\u001b[39;00m(msg) \u001b[38;5;28;01mfrom\u001b[39;00m \u001b[38;5;28;01mNone\u001b[39;00m\n\u001b[1;32m   1246\u001b[0m \u001b[38;5;28;01mexcept\u001b[39;00m \u001b[38;5;167;01mException\u001b[39;00m:\n\u001b[1;32m   1247\u001b[0m     \u001b[38;5;28mself\u001b[39m\u001b[38;5;241m.\u001b[39mlog\u001b[38;5;241m.\u001b[39mwarning(\u001b[38;5;124m\"\u001b[39m\u001b[38;5;124mInvalid Message:\u001b[39m\u001b[38;5;124m\"\u001b[39m, exc_info\u001b[38;5;241m=\u001b[39m\u001b[38;5;28;01mTrue\u001b[39;00m)\n",
      "\u001b[0;31mKeyboardInterrupt\u001b[0m: Interrupted by user"
     ]
    }
   ],
   "source": [
    "#taking user's input\n",
    "\n",
    "\n",
    "def game():\n",
    "    options = [\"rock\", \"paper\", \"scissors\"]\n",
    "    print(\"Welcome to Rock-Paper-Scissors!\")\n",
    "    \n",
    "    while True:\n",
    "        choice = input(\"Please enter your choice (Rock, Paper or Sissors): \").lower()\n",
    "        system_choice = random.choice(options)\n",
    "    \n",
    "        if choice not in options:\n",
    "            print(\"Your input is invalid\")\n",
    "        elif choice == system_choice:\n",
    "            print(f\"It's a tie. The computer also chose {system_choice}\")\n",
    "        elif (choice == \"rock\" and system_choice == \"scissors\") or \\\n",
    "             (choice == \"scissors\" and system_choice == \"paper\") or \\\n",
    "             (choice == \"paper\" and system_choice == \"rock\"):\n",
    "            print(f\"The computer chose {system_choice}\")\n",
    "            print(\"Congratulation! You win!\")\n",
    "            \n",
    "        else:\n",
    "            print(f\"Sorry, the computer wins. The computer chose {system_choice}\")\n",
    "            \n",
    "        play_again = input(\"Do you want to play again? (y/n): \").lower()\n",
    "        if play_again != \"y\":\n",
    "            print(\"Thanks for playing!\")\n",
    "            break\n",
    "\n",
    "game()"
   ]
  },
  {
   "cell_type": "code",
   "execution_count": null,
   "id": "8557d059",
   "metadata": {},
   "outputs": [],
   "source": []
  },
  {
   "cell_type": "code",
   "execution_count": null,
   "id": "3f660e57",
   "metadata": {},
   "outputs": [],
   "source": []
  }
 ],
 "metadata": {
  "kernelspec": {
   "display_name": "Python 3 (ipykernel)",
   "language": "python",
   "name": "python3"
  },
  "language_info": {
   "codemirror_mode": {
    "name": "ipython",
    "version": 3
   },
   "file_extension": ".py",
   "mimetype": "text/x-python",
   "name": "python",
   "nbconvert_exporter": "python",
   "pygments_lexer": "ipython3",
   "version": "3.11.5"
  }
 },
 "nbformat": 4,
 "nbformat_minor": 5
}
