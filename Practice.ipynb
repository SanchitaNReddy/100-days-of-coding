{
 "cells": [
  {
   "cell_type": "markdown",
   "id": "9e01dc8d",
   "metadata": {},
   "source": [
    "# Practice"
   ]
  },
  {
   "cell_type": "markdown",
   "id": "dfcd9599",
   "metadata": {},
   "source": [
    "## Day 1"
   ]
  },
  {
   "cell_type": "markdown",
   "id": "68f85060",
   "metadata": {},
   "source": [
    "**Exercise 1:** Create a program that asks the user to enter their name and their age. Print out a message addressed to them that tells them the year that they will turn 100 years old. "
   ]
  },
  {
   "cell_type": "code",
   "execution_count": 2,
   "id": "97f53dac",
   "metadata": {
    "scrolled": true
   },
   "outputs": [
    {
     "name": "stdout",
     "output_type": "stream",
     "text": [
      "What is your name?: Sanchita\n",
      "What is your age?: 29\n",
      "You will turn a hundered years old in 2096\n"
     ]
    }
   ],
   "source": [
    "#taking user input and converting age to int\n",
    "name = input(\"What is your name?: \")\n",
    "age = int(input(\"What is your age?: \"))\n",
    "#calculating year by taking the age difference and then calculating year from 2025\n",
    "hund_year = 2025 + (100 - age)\n",
    "#printing message\n",
    "print(\"You will turn a hundered years old in \" + str(hund_year))"
   ]
  },
  {
   "cell_type": "markdown",
   "id": "b9e769b4",
   "metadata": {},
   "source": [
    "**Exercise 2:** Ask the user for a number. Depending on whether the number is even or odd, print out an appropriate message to the user. Hint: how does an even / odd number react differently when divided by 2?"
   ]
  },
  {
   "cell_type": "code",
   "execution_count": 8,
   "id": "fd0f053c",
   "metadata": {},
   "outputs": [
    {
     "name": "stdout",
     "output_type": "stream",
     "text": [
      "Enter a number to check if it is odd or even: 31\n",
      "31 is an odd number\n"
     ]
    }
   ],
   "source": [
    "#taking input of the number\n",
    "num = int(input(\"Enter a number to check if it is odd or even: \"))\n",
    "#checking if the number is even or odd\n",
    "if num % 2 == 0:\n",
    "    print(str(num) + \" is an even number\")\n",
    "else:\n",
    "    print(str(num) + \" is an odd number\")"
   ]
  },
  {
   "cell_type": "markdown",
   "id": "b3fbd249",
   "metadata": {},
   "source": [
    "**Exercise 3:** Take a list, say for example this one:\n",
    "\n",
    "  a = [1, 1, 2, 3, 5, 8, 13, 21, 34, 55, 89]\n",
    "and write a program that prints out all the elements of the list that are less than 5.\n",
    "\n",
    "Extras:\n",
    "\n",
    "Instead of printing the elements one by one, make a new list that has all the elements less than 5 from this list in it and print out this new list.\n",
    "Write this in one line of Python.\n",
    "Ask the user for a number and return a list that contains only elements from the original list a that are smaller than that number given by the user."
   ]
  },
  {
   "cell_type": "code",
   "execution_count": 12,
   "id": "9af4e13f",
   "metadata": {},
   "outputs": [
    {
     "name": "stdout",
     "output_type": "stream",
     "text": [
      "[1, 1, 2, 3]\n"
     ]
    }
   ],
   "source": [
    "#initialising the list of elements to check\n",
    "a = [1, 1, 2, 3, 5, 8, 13, 21, 34, 55, 89]\n",
    "#initialising empty list to add items that pass the test\n",
    "b = []\n",
    "for num in a:\n",
    "    if num < 5:\n",
    "        b.append(num)\n",
    "        b.sort()\n",
    "print(b)"
   ]
  },
  {
   "cell_type": "code",
   "execution_count": 13,
   "id": "ff3c4bb7",
   "metadata": {},
   "outputs": [
    {
     "name": "stdout",
     "output_type": "stream",
     "text": [
      "Provide a number between 0 - 100: 25\n",
      "[1, 1, 2, 3, 5, 8, 13, 21]\n"
     ]
    }
   ],
   "source": [
    "number = int(input(\"Provide a number between 0 - 100: \"))\n",
    "c = []\n",
    "for num in a:\n",
    "    if num < number:\n",
    "        c.append(num)\n",
    "        c.sort()\n",
    "print(c)"
   ]
  },
  {
   "cell_type": "code",
   "execution_count": null,
   "id": "6a676966",
   "metadata": {},
   "outputs": [],
   "source": []
  }
 ],
 "metadata": {
  "kernelspec": {
   "display_name": "Python 3 (ipykernel)",
   "language": "python",
   "name": "python3"
  },
  "language_info": {
   "codemirror_mode": {
    "name": "ipython",
    "version": 3
   },
   "file_extension": ".py",
   "mimetype": "text/x-python",
   "name": "python",
   "nbconvert_exporter": "python",
   "pygments_lexer": "ipython3",
   "version": "3.11.5"
  }
 },
 "nbformat": 4,
 "nbformat_minor": 5
}
