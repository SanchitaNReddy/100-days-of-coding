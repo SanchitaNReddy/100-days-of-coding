{
 "cells": [
  {
   "cell_type": "markdown",
   "id": "9e01dc8d",
   "metadata": {},
   "source": [
    "# Practice"
   ]
  },
  {
   "cell_type": "markdown",
   "id": "dfcd9599",
   "metadata": {},
   "source": [
    "## Day 1"
   ]
  },
  {
   "cell_type": "markdown",
   "id": "68f85060",
   "metadata": {},
   "source": [
    "**Exercise 1:** Create a program that asks the user to enter their name and their age. Print out a message addressed to them that tells them the year that they will turn 100 years old. "
   ]
  },
  {
   "cell_type": "code",
   "execution_count": 44,
   "id": "97f53dac",
   "metadata": {
    "scrolled": true
   },
   "outputs": [
    {
     "name": "stdout",
     "output_type": "stream",
     "text": [
      "What is your name?: anish\n",
      "What is your age?: 28\n",
      "You will turn a hundered years old in 2097\n"
     ]
    }
   ],
   "source": [
    "#taking user input and converting age to int\n",
    "name = input(\"What is your name?: \")\n",
    "age = int(input(\"What is your age?: \"))\n",
    "#calculating year by taking the age difference and then calculating year from 2025\n",
    "hund_year = 2025 + (100 - age)\n",
    "#printing message\n",
    "print(\"You will turn a hundered years old in \" + str(hund_year))"
   ]
  },
  {
   "cell_type": "markdown",
   "id": "b9e769b4",
   "metadata": {},
   "source": [
    "**Exercise 2:** Ask the user for a number. Depending on whether the number is even or odd, print out an appropriate message to the user. Hint: how does an even / odd number react differently when divided by 2?"
   ]
  },
  {
   "cell_type": "code",
   "execution_count": 8,
   "id": "fd0f053c",
   "metadata": {},
   "outputs": [
    {
     "name": "stdout",
     "output_type": "stream",
     "text": [
      "Enter a number to check if it is odd or even: 31\n",
      "31 is an odd number\n"
     ]
    }
   ],
   "source": [
    "#taking input of the number\n",
    "num = int(input(\"Enter a number to check if it is odd or even: \"))\n",
    "#checking if the number is even or odd\n",
    "if num % 2 == 0:\n",
    "    print(str(num) + \" is an even number\")\n",
    "else:\n",
    "    print(str(num) + \" is an odd number\")"
   ]
  },
  {
   "cell_type": "markdown",
   "id": "b3fbd249",
   "metadata": {},
   "source": [
    "**Exercise 3:** Take a list, say for example this one:\n",
    "\n",
    "  a = [1, 1, 2, 3, 5, 8, 13, 21, 34, 55, 89]\n",
    "and write a program that prints out all the elements of the list that are less than 5.\n",
    "\n",
    "Extras:\n",
    "\n",
    "Instead of printing the elements one by one, make a new list that has all the elements less than 5 from this list in it and print out this new list.\n",
    "Write this in one line of Python.\n",
    "Ask the user for a number and return a list that contains only elements from the original list a that are smaller than that number given by the user."
   ]
  },
  {
   "cell_type": "code",
   "execution_count": 12,
   "id": "9af4e13f",
   "metadata": {},
   "outputs": [
    {
     "name": "stdout",
     "output_type": "stream",
     "text": [
      "[1, 1, 2, 3]\n"
     ]
    }
   ],
   "source": [
    "#initialising the list of elements to check\n",
    "a = [1, 1, 2, 3, 5, 8, 13, 21, 34, 55, 89]\n",
    "#initialising empty list to add items that pass the test\n",
    "b = []\n",
    "for num in a:\n",
    "    if num < 5:\n",
    "        b.append(num)\n",
    "        b.sort()\n",
    "print(b)"
   ]
  },
  {
   "cell_type": "code",
   "execution_count": 13,
   "id": "ff3c4bb7",
   "metadata": {},
   "outputs": [
    {
     "name": "stdout",
     "output_type": "stream",
     "text": [
      "Provide a number between 0 - 100: 25\n",
      "[1, 1, 2, 3, 5, 8, 13, 21]\n"
     ]
    }
   ],
   "source": [
    "number = int(input(\"Provide a number between 0 - 100: \"))\n",
    "c = []\n",
    "for num in a:\n",
    "    if num < number:\n",
    "        c.append(num)\n",
    "        c.sort()\n",
    "print(c)"
   ]
  },
  {
   "cell_type": "markdown",
   "id": "a67c452d",
   "metadata": {},
   "source": [
    "## Day 2"
   ]
  },
  {
   "cell_type": "markdown",
   "id": "beba31ab",
   "metadata": {},
   "source": [
    "**Exercise 4:** Create a program that asks the user for a number and then prints out a list of all the divisors of that number. (If you don’t know what a divisor is, it is a number that divides evenly into another number. For example, 13 is a divisor of 26 because 26 / 13 has no remainder.)"
   ]
  },
  {
   "cell_type": "code",
   "execution_count": 17,
   "id": "e2bb878f",
   "metadata": {},
   "outputs": [
    {
     "name": "stdout",
     "output_type": "stream",
     "text": [
      "Please enter a number: 20\n",
      "[1, 2, 4, 5, 10, 20]\n"
     ]
    }
   ],
   "source": [
    "#taking user input\n",
    "num_input = int(input(\"Please enter a number: \"))\n",
    "divisors = list(range(1, num_input+1))\n",
    "d = []\n",
    "#checking for divisors\n",
    "for elem in divisors:\n",
    "    if num_input % elem == 0:\n",
    "        d.append(elem)\n",
    "print(d)"
   ]
  },
  {
   "cell_type": "markdown",
   "id": "54da9a73",
   "metadata": {},
   "source": [
    "**Exercise 5:**\n",
    "Take two lists, say for example these two:\n",
    "\n",
    "  a = [1, 1, 2, 3, 5, 8, 13, 21, 34, 55, 89]\n",
    "  b = [1, 2, 3, 4, 5, 6, 7, 8, 9, 10, 11, 12, 13]\n",
    "and write a program that returns a list that contains only the elements that are common between the lists (without duplicates). Make sure your program works on two lists of different sizes.\n",
    "\n",
    "Extras:\n",
    "\n",
    "Randomly generate two lists to test this\n",
    "\n",
    "Write this in one line of Python (don’t worry if you can’t figure this out at this point - we’ll get to it soon)"
   ]
  },
  {
   "cell_type": "code",
   "execution_count": 25,
   "id": "90045e6f",
   "metadata": {},
   "outputs": [
    {
     "name": "stdout",
     "output_type": "stream",
     "text": [
      "[1, 2, 3, 5, 8, 13]\n"
     ]
    }
   ],
   "source": [
    "#initiating the two lists\n",
    "a = [1, 1, 2, 3, 5, 8, 13, 21, 34, 55, 89]\n",
    "b = [1, 2, 3, 4, 5, 6, 7, 8, 9, 10, 11, 12, 13]\n",
    "c = []\n",
    "\n",
    "def match_elem(a, b, c):\n",
    "    for elem in a:\n",
    "        for num in b:\n",
    "            if elem == num:\n",
    "                if elem not in c:\n",
    "                    c.append(elem)\n",
    "    return c\n",
    "final = match_elem(a, b, c)              \n",
    "print(final)"
   ]
  },
  {
   "cell_type": "code",
   "execution_count": 28,
   "id": "5042153b",
   "metadata": {},
   "outputs": [
    {
     "name": "stdout",
     "output_type": "stream",
     "text": [
      "[9, 14, 18, 23, 38, 39, 45, 46, 69, 95]\n",
      "[3, 11, 33, 34, 43, 60, 71, 80, 87, 88]\n",
      "[]\n"
     ]
    }
   ],
   "source": [
    "import random\n",
    "#generating random lists\n",
    "a = [random.randint(1, 100) for _ in range(10)]  # List of 10 random integers between 1 and 100\n",
    "b = [random.randint(1, 100) for _ in range(10)] \n",
    "c = []\n",
    "a.sort()\n",
    "b.sort()\n",
    "random_final = match_elem(a, b, c)\n",
    "print(a)\n",
    "print(b)\n",
    "print(random_final)"
   ]
  },
  {
   "cell_type": "markdown",
   "id": "62b91bc2",
   "metadata": {},
   "source": [
    "**Exercise 6:** Ask the user for a string and print out whether this string is a palindrome or not. (A palindrome is a string that reads the same forwards and backwards.)"
   ]
  },
  {
   "cell_type": "code",
   "execution_count": 45,
   "id": "fd5ab682",
   "metadata": {},
   "outputs": [
    {
     "name": "stdout",
     "output_type": "stream",
     "text": [
      "Please enter a word: malayalam\n",
      "malayalam is a palindrome\n"
     ]
    }
   ],
   "source": [
    "user_input = input(\"Please enter a word: \")\n",
    "def is_palindrome(word):\n",
    "    word_lower = word.lower() #converting to lower case\n",
    "    return word_lower == word_lower[::-1]\n",
    "\n",
    "if is_palindrome(user_input):\n",
    "    print(f\"{user_input} is a palindrome\")\n",
    "else:\n",
    "    print(f\"{user_input} is not a palindrome\")\n",
    "    "
   ]
  },
  {
   "cell_type": "markdown",
   "id": "e9fa6cd9",
   "metadata": {},
   "source": [
    "**Exercise 7:** Let’s say I give you a list saved in a variable: a = [1, 4, 9, 16, 25, 36, 49, 64, 81, 100]. Write one line of Python that takes this list a and makes a new list that has only the even elements of this list in it."
   ]
  },
  {
   "cell_type": "code",
   "execution_count": 38,
   "id": "746ac93c",
   "metadata": {},
   "outputs": [
    {
     "name": "stdout",
     "output_type": "stream",
     "text": [
      "[4, 16, 36, 64, 100]\n",
      "5\n"
     ]
    }
   ],
   "source": [
    "#given list\n",
    "a = [1, 4, 9, 16, 25, 36, 49, 64, 81, 100]\n",
    "#checking if the numver is even\n",
    "b = [num for num in a if num % 2 == 0]\n",
    "print(b)\n",
    "print(len(b))"
   ]
  },
  {
   "cell_type": "markdown",
   "id": "b7547ab3",
   "metadata": {},
   "source": [
    "**Exercise 8:** Make a Rock-Paper-Scissors game. (Hint: Ask for player plays (using input), the player plays against the system, compare them, print out a message of congratulations to the winner, and ask if the players want to start a new game)\n",
    "\n",
    "Remember the rules:\n",
    "\n",
    "Rock beats scissors\n",
    "Scissors beats paper\n",
    "Paper beats rock"
   ]
  },
  {
   "cell_type": "code",
   "execution_count": 46,
   "id": "85a0bfc4",
   "metadata": {},
   "outputs": [
    {
     "name": "stdout",
     "output_type": "stream",
     "text": [
      "Welcome to Rock-Paper-Scissors!\n",
      "Please enter your choice (Rock, Paper or Sissors): rock\n",
      "The computer chose scissors\n",
      "Congratulation! You win!\n",
      "Do you want to play again? (y/n): n\n",
      "Thanks for playing!\n"
     ]
    }
   ],
   "source": [
    "def game():\n",
    "    options = [\"rock\", \"paper\", \"scissors\"]\n",
    "    print(\"Welcome to Rock-Paper-Scissors!\")\n",
    "    \n",
    "    while True:\n",
    "        choice = input(\"Please enter your choice (Rock, Paper or Sissors): \").lower()\n",
    "        system_choice = random.choice(options)\n",
    "    \n",
    "        if choice not in options:\n",
    "            print(\"Your input is invalid\")\n",
    "        elif choice == system_choice:\n",
    "            print(f\"It's a tie. The computer also chose {system_choice}\")\n",
    "        elif (choice == \"rock\" and system_choice == \"scissors\") or \\\n",
    "             (choice == \"scissors\" and system_choice == \"paper\") or \\\n",
    "             (choice == \"paper\" and system_choice == \"rock\"):\n",
    "            print(f\"The computer chose {system_choice}\")\n",
    "            print(\"Congratulation! You win!\")\n",
    "            \n",
    "        else:\n",
    "            print(f\"Sorry, the computer wins. The computer chose {system_choice}\")\n",
    "            \n",
    "        play_again = input(\"Do you want to play again? (y/n): \").lower()\n",
    "        if play_again != \"y\":\n",
    "            print(\"Thanks for playing!\")\n",
    "            break\n",
    "\n",
    "game()"
   ]
  },
  {
   "cell_type": "markdown",
   "id": "86bc41d7",
   "metadata": {},
   "source": [
    "**Exercise 9:** Generate a random number between 1 and 9 (including 1 and 9). Ask the user to guess the number, then tell them whether they guessed too low, too high, or exactly right. "
   ]
  },
  {
   "cell_type": "code",
   "execution_count": 49,
   "id": "709cfb02",
   "metadata": {},
   "outputs": [
    {
     "name": "stdout",
     "output_type": "stream",
     "text": [
      "Guess a number between 0 - 9: 8\n",
      "You guessed too high! Try again\n",
      "Guess a number between 0 - 9: 5\n",
      "You guessed too low! Try again\n",
      "Guess a number between 0 - 9: 7\n",
      "You guessed correctly. The number was 7\n"
     ]
    }
   ],
   "source": [
    "import random\n",
    "#generating a random number\n",
    "system_number = random.randint(0,9)\n",
    "\n",
    "while True:\n",
    "    #user's guess\n",
    "    user_input = int(input(\"Guess a number between 0 - 9: \"))\n",
    "    if system_number < user_input:\n",
    "        print(f\"You guessed too high! Try again\")\n",
    "    elif system_number > user_input:\n",
    "        print(f\"You guessed too low! Try again\")\n",
    "    else:\n",
    "        print(f\"You guessed correctly. The number was {system_number}\")\n",
    "        break\n",
    "        "
   ]
  },
  {
   "cell_type": "markdown",
   "id": "90d122a7",
   "metadata": {},
   "source": [
    "**Exercise 10:** Take two lists, say for example these two:\n",
    "\n",
    "\ta = [1, 1, 2, 3, 5, 8, 13, 21, 34, 55, 89]\n",
    "\tb = [1, 2, 3, 4, 5, 6, 7, 8, 9, 10, 11, 12, 13]\n",
    "    \n",
    "and write a program that returns a list that contains only the elements that are common between the lists (without duplicates). Make sure your program works on two lists of different sizes. Write this in one line of Python using at least one list comprehension. "
   ]
  },
  {
   "cell_type": "code",
   "execution_count": 51,
   "id": "bae6cfe8",
   "metadata": {},
   "outputs": [
    {
     "name": "stdout",
     "output_type": "stream",
     "text": [
      "[1, 2, 3, 5, 8, 13]\n"
     ]
    }
   ],
   "source": [
    "#initiating the lists\n",
    "a = [1, 1, 2, 3, 5, 8, 13, 21, 34, 55, 89]\n",
    "b = [1, 2, 3, 4, 5, 6, 7, 8, 9, 10, 11, 12, 13]\n",
    "c = []\n",
    "\n",
    "for num in a:\n",
    "    if num in b:\n",
    "        if num not in c:\n",
    "            c.append(num)\n",
    "print(c)"
   ]
  },
  {
   "cell_type": "markdown",
   "id": "58f1a85d",
   "metadata": {},
   "source": [
    "**Exercise 11:** Ask the user for a number and determine whether the number is prime or not. (For those who have forgotten, a prime number is a number that has no divisors.)."
   ]
  },
  {
   "cell_type": "code",
   "execution_count": 63,
   "id": "8f3785df",
   "metadata": {},
   "outputs": [
    {
     "name": "stdout",
     "output_type": "stream",
     "text": [
      "Enter a number: 9\n",
      "9 is not a prime number.\n"
     ]
    }
   ],
   "source": [
    "def is_prime(number):\n",
    "    if number <= 1:\n",
    "        return False  # Numbers less than or equal to 1 are not prime\n",
    "    for i in range(2, int(number**0.5) + 1):  # Check divisors up to √number\n",
    "        if number % i == 0:\n",
    "            return False\n",
    "    return True\n",
    "\n",
    "# Ask the user for a number\n",
    "num = int(input(\"Enter a number: \"))\n",
    "\n",
    "# Check and display if it's prime\n",
    "if is_prime(num):\n",
    "    print(f\"{num} is a prime number.\")\n",
    "else:\n",
    "    print(f\"{num} is not a prime number.\")"
   ]
  },
  {
   "cell_type": "code",
   "execution_count": null,
   "id": "da6a916d",
   "metadata": {},
   "outputs": [],
   "source": []
  },
  {
   "cell_type": "code",
   "execution_count": null,
   "id": "17da81c6",
   "metadata": {},
   "outputs": [],
   "source": []
  }
 ],
 "metadata": {
  "kernelspec": {
   "display_name": "Python 3 (ipykernel)",
   "language": "python",
   "name": "python3"
  },
  "language_info": {
   "codemirror_mode": {
    "name": "ipython",
    "version": 3
   },
   "file_extension": ".py",
   "mimetype": "text/x-python",
   "name": "python",
   "nbconvert_exporter": "python",
   "pygments_lexer": "ipython3",
   "version": "3.11.5"
  }
 },
 "nbformat": 4,
 "nbformat_minor": 5
}
