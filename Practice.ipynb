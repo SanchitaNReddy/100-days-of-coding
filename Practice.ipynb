{
 "cells": [
  {
   "cell_type": "markdown",
   "id": "9e01dc8d",
   "metadata": {},
   "source": [
    "# Practice"
   ]
  },
  {
   "cell_type": "code",
   "execution_count": 6,
   "id": "97f53dac",
   "metadata": {},
   "outputs": [
    {
     "name": "stdout",
     "output_type": "stream",
     "text": [
      "What is your name?: Sanchita\n",
      "What is your age?: 29\n",
      "Your name is Sanchita\n",
      "Your age is 29\n"
     ]
    }
   ],
   "source": [
    "name = input(\"What is your name?: \")\n",
    "age = input(\"What is your age?: \")\n",
    "print(\"Your name is \" + name + \"\\nYour age is \" + age)"
   ]
  },
  {
   "cell_type": "code",
   "execution_count": 7,
   "id": "53ac339d",
   "metadata": {},
   "outputs": [
    {
     "name": "stdout",
     "output_type": "stream",
     "text": [
      "71\n"
     ]
    }
   ],
   "source": [
    "age_int = int(age)\n",
    "age_diff = 100 - age_int\n",
    "print(age_diff)"
   ]
  },
  {
   "cell_type": "code",
   "execution_count": 9,
   "id": "87db07cd",
   "metadata": {},
   "outputs": [
    {
     "name": "stdout",
     "output_type": "stream",
     "text": [
      "2096\n",
      "You will turn 100 in 2096\n"
     ]
    }
   ],
   "source": [
    "year = 2025\n",
    "hund_year = str(year + age_diff)\n",
    "print(hund_year)\n",
    "print(\"You will turn 100 in \" + hund_year)"
   ]
  },
  {
   "cell_type": "code",
   "execution_count": null,
   "id": "59197988",
   "metadata": {},
   "outputs": [],
   "source": []
  }
 ],
 "metadata": {
  "kernelspec": {
   "display_name": "Python 3 (ipykernel)",
   "language": "python",
   "name": "python3"
  },
  "language_info": {
   "codemirror_mode": {
    "name": "ipython",
    "version": 3
   },
   "file_extension": ".py",
   "mimetype": "text/x-python",
   "name": "python",
   "nbconvert_exporter": "python",
   "pygments_lexer": "ipython3",
   "version": "3.11.5"
  }
 },
 "nbformat": 4,
 "nbformat_minor": 5
}
