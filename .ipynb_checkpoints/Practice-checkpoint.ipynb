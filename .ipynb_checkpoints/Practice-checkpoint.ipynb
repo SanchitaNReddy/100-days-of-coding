{
 "cells": [
  {
   "cell_type": "markdown",
   "id": "9e01dc8d",
   "metadata": {},
   "source": [
    "# Practice"
   ]
  },
  {
   "cell_type": "markdown",
   "id": "dfcd9599",
   "metadata": {},
   "source": [
    "## Day 1"
   ]
  },
  {
   "cell_type": "markdown",
   "id": "68f85060",
   "metadata": {},
   "source": [
    "**Exercise 1:** Create a program that asks the user to enter their name and their age. Print out a message addressed to them that tells them the year that they will turn 100 years old. "
   ]
  },
  {
   "cell_type": "code",
   "execution_count": 2,
   "id": "97f53dac",
   "metadata": {
    "scrolled": true
   },
   "outputs": [
    {
     "name": "stdout",
     "output_type": "stream",
     "text": [
      "What is your name?: Sanchita\n",
      "What is your age?: 29\n",
      "You will turn a hundered years old in 2096\n"
     ]
    }
   ],
   "source": [
    "#taking user input and converting age to int\n",
    "name = input(\"What is your name?: \")\n",
    "age = int(input(\"What is your age?: \"))\n",
    "#calculating year by taking the age difference and then calculating year from 2025\n",
    "hund_year = 2025 + (100 - age)\n",
    "#printing message\n",
    "print(\"You will turn a hundered years old in \" + str(hund_year))"
   ]
  },
  {
   "cell_type": "markdown",
   "id": "b9e769b4",
   "metadata": {},
   "source": [
    "**Exercise 2:** Ask the user for a number. Depending on whether the number is even or odd, print out an appropriate message to the user. Hint: how does an even / odd number react differently when divided by 2?"
   ]
  },
  {
   "cell_type": "code",
   "execution_count": 8,
   "id": "fd0f053c",
   "metadata": {},
   "outputs": [
    {
     "name": "stdout",
     "output_type": "stream",
     "text": [
      "Enter a number to check if it is odd or even: 31\n",
      "31 is an odd number\n"
     ]
    }
   ],
   "source": [
    "#taking input of the number\n",
    "num = int(input(\"Enter a number to check if it is odd or even: \"))\n",
    "#checking if the number is even or odd\n",
    "if num % 2 == 0:\n",
    "    print(str(num) + \" is an even number\")\n",
    "else:\n",
    "    print(str(num) + \" is an odd number\")"
   ]
  },
  {
   "cell_type": "markdown",
   "id": "b3fbd249",
   "metadata": {},
   "source": [
    "**Exercise 3:** Take a list, say for example this one:\n",
    "\n",
    "  a = [1, 1, 2, 3, 5, 8, 13, 21, 34, 55, 89]\n",
    "and write a program that prints out all the elements of the list that are less than 5.\n",
    "\n",
    "Extras:\n",
    "\n",
    "Instead of printing the elements one by one, make a new list that has all the elements less than 5 from this list in it and print out this new list.\n",
    "Write this in one line of Python.\n",
    "Ask the user for a number and return a list that contains only elements from the original list a that are smaller than that number given by the user."
   ]
  },
  {
   "cell_type": "code",
   "execution_count": 12,
   "id": "9af4e13f",
   "metadata": {},
   "outputs": [
    {
     "name": "stdout",
     "output_type": "stream",
     "text": [
      "[1, 1, 2, 3]\n"
     ]
    }
   ],
   "source": [
    "#initialising the list of elements to check\n",
    "a = [1, 1, 2, 3, 5, 8, 13, 21, 34, 55, 89]\n",
    "#initialising empty list to add items that pass the test\n",
    "b = []\n",
    "for num in a:\n",
    "    if num < 5:\n",
    "        b.append(num)\n",
    "        b.sort()\n",
    "print(b)"
   ]
  },
  {
   "cell_type": "code",
   "execution_count": 13,
   "id": "ff3c4bb7",
   "metadata": {},
   "outputs": [
    {
     "name": "stdout",
     "output_type": "stream",
     "text": [
      "Provide a number between 0 - 100: 25\n",
      "[1, 1, 2, 3, 5, 8, 13, 21]\n"
     ]
    }
   ],
   "source": [
    "number = int(input(\"Provide a number between 0 - 100: \"))\n",
    "c = []\n",
    "for num in a:\n",
    "    if num < number:\n",
    "        c.append(num)\n",
    "        c.sort()\n",
    "print(c)"
   ]
  },
  {
   "cell_type": "markdown",
   "id": "7e5b3bab",
   "metadata": {},
   "source": [
    "## Day 2"
   ]
  },
  {
   "cell_type": "markdown",
   "id": "bfd2b704",
   "metadata": {},
   "source": [
    "**Exercise 4:** Create a program that asks the user for a number and then prints out a list of all the divisors of that number. (If you don’t know what a divisor is, it is a number that divides evenly into another number. For example, 13 is a divisor of 26 because 26 / 13 has no remainder.)"
   ]
  },
  {
   "cell_type": "code",
   "execution_count": 17,
   "id": "77909b46",
   "metadata": {},
   "outputs": [
    {
     "name": "stdout",
     "output_type": "stream",
     "text": [
      "Please enter a number: 20\n",
      "[1, 2, 4, 5, 10, 20]\n"
     ]
    }
   ],
   "source": [
    "#taking user input\n",
    "num_input = int(input(\"Please enter a number: \"))\n",
    "divisors = list(range(1, num_input+1))\n",
    "d = []\n",
    "#checking for divisors\n",
    "for elem in divisors:\n",
    "    if num_input % elem == 0:\n",
    "        d.append(elem)\n",
    "print(d)"
   ]
  },
  {
   "cell_type": "markdown",
   "id": "97f07f3d",
   "metadata": {},
   "source": [
    "**Exercise 5:**\n",
    "Take two lists, say for example these two:\n",
    "\n",
    "  a = [1, 1, 2, 3, 5, 8, 13, 21, 34, 55, 89]\n",
    "  b = [1, 2, 3, 4, 5, 6, 7, 8, 9, 10, 11, 12, 13]\n",
    "and write a program that returns a list that contains only the elements that are common between the lists (without duplicates). Make sure your program works on two lists of different sizes.\n",
    "\n",
    "Extras:\n",
    "\n",
    "Randomly generate two lists to test this\n",
    "\n",
    "Write this in one line of Python (don’t worry if you can’t figure this out at this point - we’ll get to it soon)"
   ]
  },
  {
   "cell_type": "code",
   "execution_count": 25,
   "id": "373b3f83",
   "metadata": {},
   "outputs": [
    {
     "name": "stdout",
     "output_type": "stream",
     "text": [
      "[1, 2, 3, 5, 8, 13]\n"
     ]
    }
   ],
   "source": [
    "#initiating the two lists\n",
    "a = [1, 1, 2, 3, 5, 8, 13, 21, 34, 55, 89]\n",
    "b = [1, 2, 3, 4, 5, 6, 7, 8, 9, 10, 11, 12, 13]\n",
    "c = []\n",
    "\n",
    "def match_elem(a, b, c):\n",
    "    for elem in a:\n",
    "        for num in b:\n",
    "            if elem == num:\n",
    "                if elem not in c:\n",
    "                    c.append(elem)\n",
    "    return c\n",
    "final = match_elem(a, b, c)              \n",
    "print(final)"
   ]
  },
  {
   "cell_type": "code",
   "execution_count": 28,
   "id": "947252f3",
   "metadata": {},
   "outputs": [
    {
     "name": "stdout",
     "output_type": "stream",
     "text": [
      "[9, 14, 18, 23, 38, 39, 45, 46, 69, 95]\n",
      "[3, 11, 33, 34, 43, 60, 71, 80, 87, 88]\n",
      "[]\n"
     ]
    }
   ],
   "source": [
    "import random\n",
    "#generating random lists\n",
    "a = [random.randint(1, 100) for _ in range(10)]  # List of 10 random integers between 1 and 100\n",
    "b = [random.randint(1, 100) for _ in range(10)] \n",
    "c = []\n",
    "a.sort()\n",
    "b.sort()\n",
    "random_final = match_elem(a, b, c)\n",
    "print(a)\n",
    "print(b)\n",
    "print(random_final)"
   ]
  },
  {
   "cell_type": "markdown",
   "id": "c6193ccb",
   "metadata": {},
   "source": [
    "**Exercise 6:** Ask the user for a string and print out whether this string is a palindrome or not. (A palindrome is a string that reads the same forwards and backwards.)"
   ]
  },
  {
   "cell_type": "code",
   "execution_count": 34,
   "id": "d9f25abf",
   "metadata": {},
   "outputs": [
    {
     "name": "stdout",
     "output_type": "stream",
     "text": [
      "Please enter a word: radar\n",
      "radar is a palindrome\n"
     ]
    }
   ],
   "source": [
    "user_input = input(\"Please enter a word: \")\n",
    "def is_palindrome(word):\n",
    "    word_lower = word.lower() #converting to lower case\n",
    "    return word_lower == word_lower[::-1]\n",
    "\n",
    "if is_palindrome(user_input):\n",
    "    print(f\"{user_input} is a palindrome\")\n",
    "else:\n",
    "    print(f\"{user_input} is not a palindrome\")\n",
    "    "
   ]
  },
  {
   "cell_type": "code",
   "execution_count": null,
   "id": "28561a08",
   "metadata": {},
   "outputs": [],
   "source": []
  }
 ],
 "metadata": {
  "kernelspec": {
   "display_name": "Python 3 (ipykernel)",
   "language": "python",
   "name": "python3"
  },
  "language_info": {
   "codemirror_mode": {
    "name": "ipython",
    "version": 3
   },
   "file_extension": ".py",
   "mimetype": "text/x-python",
   "name": "python",
   "nbconvert_exporter": "python",
   "pygments_lexer": "ipython3",
   "version": "3.11.5"
  }
 },
 "nbformat": 4,
 "nbformat_minor": 5
}
